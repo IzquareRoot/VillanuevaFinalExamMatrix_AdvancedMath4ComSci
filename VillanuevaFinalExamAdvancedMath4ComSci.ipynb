{
  "nbformat": 4,
  "nbformat_minor": 0,
  "metadata": {
    "colab": {
      "provenance": []
    },
    "kernelspec": {
      "name": "python3",
      "display_name": "Python 3"
    },
    "language_info": {
      "name": "python"
    }
  },
  "cells": [
    {
      "cell_type": "code",
      "execution_count": 29,
      "metadata": {
        "colab": {
          "base_uri": "https://localhost:8080/"
        },
        "id": "jbMhQdg4cSDY",
        "outputId": "2b95bf1e-67e6-4e7c-9a81-f4ceddb03e28"
      },
      "outputs": [
        {
          "output_type": "stream",
          "name": "stdout",
          "text": [
            "Generated 3x4 Matrix:\n",
            "[[ 5 15 19 15]\n",
            " [18 11 12  4]\n",
            " [11 12  7  8]]\n",
            "\n",
            "Coefficient Matrix (A):\n",
            "[[ 5 15 19]\n",
            " [18 11 12]\n",
            " [11 12  7]]\n",
            "\n",
            "Right-hand Side Vector (b):\n",
            "[15  4  8]\n",
            "\n",
            "Solution using Matrix Inverse Method:\n",
            "[-0.4775641   1.05769231  0.08012821]\n",
            "\n",
            "Solution using Gaussian Elimination:\n",
            "[-0.4775641   1.05769231  0.08012821]\n",
            "\n",
            "Verification (Ax = b):\n",
            "Computed b: [15.  4.  8.]\n",
            "Original b: [15  4  8]\n"
          ]
        }
      ],
      "source": [
        "import numpy as np\n",
        "\n",
        "matrix_3x4 = np.random.randint(1, 21, size=(3, 4))  # Generate numbers between 1 and 20\n",
        "A = matrix_3x4[:, :3]  # Coefficient matrix (first 3 columns)\n",
        "b = matrix_3x4[:, 3]   # Right-hand side vector (last column)\n",
        "\n",
        "print(\"Generated 3x4 Matrix:\")\n",
        "print(matrix_3x4)\n",
        "print(\"\\nCoefficient Matrix (A):\")\n",
        "print(A)\n",
        "print(\"\\nRight-hand Side Vector (b):\")\n",
        "print(b)\n",
        "\n",
        "# Step 2: Solve using the Matrix Inverse Method\n",
        "try:\n",
        "    A_inv = np.linalg.inv(A)  # Compute A^-1\n",
        "    x_inverse_method = np.dot(A_inv, b)  # x = A^-1 * b\n",
        "    print(\"\\nSolution using Matrix Inverse Method:\")\n",
        "    print(x_inverse_method)\n",
        "except np.linalg.LinAlgError:\n",
        "    print(\"\\nMatrix A is singular and cannot be inverted.\")\n",
        "\n",
        "# Step 3: Solve using Gaussian Elimination\n",
        "x_gaussian = np.linalg.solve(A, b)  # Direct Gaussian elimination\n",
        "print(\"\\nSolution using Gaussian Elimination:\")\n",
        "print(x_gaussian)\n",
        "\n",
        "# Step 4: Verify the solution\n",
        "b_check = np.dot(A, x_gaussian)  # Recompute b using A and the computed x\n",
        "print(\"\\nVerification (Ax = b):\")\n",
        "print(\"Computed b:\", b_check)\n",
        "print(\"Original b:\", b)"
      ]
    },
    {
      "cell_type": "code",
      "source": [],
      "metadata": {
        "id": "lfGdcRnSfMR8"
      },
      "execution_count": null,
      "outputs": []
    }
  ]
}